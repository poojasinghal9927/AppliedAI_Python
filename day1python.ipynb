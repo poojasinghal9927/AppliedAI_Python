{
  "nbformat": 4,
  "nbformat_minor": 0,
  "metadata": {
    "colab": {
      "name": "day1python.ipynb",
      "provenance": [],
      "collapsed_sections": [
        "pqJxuwvGRQog",
        "aT3HnFW8Rdbc",
        "YmSYS9vQTbAr",
        "d-ZnIH32UYSB"
      ],
      "authorship_tag": "ABX9TyM+ZQGC5hKDcrDSMfD+Woxo",
      "include_colab_link": true
    },
    "kernelspec": {
      "name": "python3",
      "display_name": "Python 3"
    },
    "language_info": {
      "name": "python"
    }
  },
  "cells": [
    {
      "cell_type": "markdown",
      "metadata": {
        "id": "view-in-github",
        "colab_type": "text"
      },
      "source": [
        "<a href=\"https://colab.research.google.com/github/poojasinghal9927/AppliedAI_Python/blob/main/day1python.ipynb\" target=\"_parent\"><img src=\"https://colab.research.google.com/assets/colab-badge.svg\" alt=\"Open In Colab\"/></a>"
      ]
    },
    {
      "cell_type": "markdown",
      "source": [
        "# keywords in python\n",
        "\n",
        "\n"
      ],
      "metadata": {
        "id": "pqJxuwvGRQog"
      }
    },
    {
      "cell_type": "code",
      "source": [
        "import keyword\n",
        "\n",
        "print(keyword.kwlist)\n",
        "print(\"total number of keywords:\",len(keyword.kwlist))"
      ],
      "metadata": {
        "id": "qKiHlDqfIPaT"
      },
      "execution_count": null,
      "outputs": []
    },
    {
      "cell_type": "markdown",
      "source": [
        "# identifiers \n",
        "Name given to entittes like class,functions,variables\n",
        "we can not use special symbols like !,@,#,$,% etc"
      ],
      "metadata": {
        "id": "aT3HnFW8Rdbc"
      }
    },
    {
      "cell_type": "code",
      "source": [
        "abc=12;\n",
        "glaobal=3;"
      ],
      "metadata": {
        "id": "_jV5pNeZRb2M"
      },
      "execution_count": null,
      "outputs": []
    },
    {
      "cell_type": "code",
      "source": [
        "a@ = 13;"
      ],
      "metadata": {
        "id": "fcbkb-X4SmJD"
      },
      "execution_count": null,
      "outputs": []
    },
    {
      "cell_type": "markdown",
      "source": [
        "# comments\n",
        "by use of # for single line, \n",
        "multiline by \"\"\" triple quotes or '''"
      ],
      "metadata": {
        "id": "YmSYS9vQTbAr"
      }
    },
    {
      "cell_type": "code",
      "source": [
        "#hi\n",
        "\"\"\"hello\n",
        "how r u\"\"\""
      ],
      "metadata": {
        "id": "btcbC_djTsSe"
      },
      "execution_count": null,
      "outputs": []
    },
    {
      "cell_type": "markdown",
      "source": [
        "# Python Indentation( 4spaces or 1 tab)(loops/function/if-else)"
      ],
      "metadata": {
        "id": "d-ZnIH32UYSB"
      }
    },
    {
      "cell_type": "code",
      "source": [
        "for i in range(10):\n",
        "    print(i)    #indentation of for loop\n",
        "# print(i) not properly indetation\n",
        "print(100)      #not indentation of for loop"
      ],
      "metadata": {
        "id": "2OxSfvm-UerG"
      },
      "execution_count": null,
      "outputs": []
    },
    {
      "cell_type": "markdown",
      "source": [
        "#Python Statement\n",
        "<pre>\n",
        "1.single line\n",
        "2.multiline: continue by \\\n",
        "</pre>"
      ],
      "metadata": {
        "id": "AmgPY0RVWzVW"
      }
    },
    {
      "cell_type": "code",
      "source": [
        "a=1\n",
        "print(a)   #single-line statement\n",
        "\n",
        "b= 1 + 2 + \\\n",
        "   3  \n",
        "print(b)     #multiline statement\n",
        "\n",
        "c=(1+2+3+     #paranthesis statement\n",
        "   4+5)\n",
        "print(c)\n",
        "\n",
        "d=10; e=13; f=20   #multiple statements in single line using ;\n",
        "print(d)\n",
        "print(e)\n",
        "print(f)"
      ],
      "metadata": {
        "id": "4JuuRBa3XG9o"
      },
      "execution_count": null,
      "outputs": []
    },
    {
      "cell_type": "markdown",
      "source": [
        "# Variable"
      ],
      "metadata": {
        "id": "QnTZfJLmmjIA"
      }
    },
    {
      "cell_type": "code",
      "source": [
        "#assignment of values\n",
        "a=1\n",
        "b=5.5\n",
        "c=\"ml\"\n",
        "\n",
        "d=e=f=\"pooja\"\n",
        "\n",
        "g, h, i = 1,8.8,\"om\"\n"
      ],
      "metadata": {
        "id": "yKCqbtm5mun3"
      },
      "execution_count": 48,
      "outputs": []
    },
    {
      "cell_type": "markdown",
      "source": [
        "#print address of variable: by use of id(varname)"
      ],
      "metadata": {
        "id": "3n3Zukx-nYXd"
      }
    },
    {
      "cell_type": "code",
      "source": [
        "x=4\n",
        "print(id(x))"
      ],
      "metadata": {
        "colab": {
          "base_uri": "https://localhost:8080/"
        },
        "id": "8SaZbF1Onemy",
        "outputId": "ae41c87a-a03a-407b-e6f1-48a8a1c62244"
      },
      "execution_count": 49,
      "outputs": [
        {
          "output_type": "stream",
          "name": "stdout",
          "text": [
            "94685675645536\n"
          ]
        }
      ]
    },
    {
      "cell_type": "code",
      "source": [
        "y=4\n",
        "print(id(y))"
      ],
      "metadata": {
        "colab": {
          "base_uri": "https://localhost:8080/"
        },
        "id": "oqcUt2_lnimU",
        "outputId": "ea2ee1c7-b8de-4da0-83a7-17626466b6b6"
      },
      "execution_count": 52,
      "outputs": [
        {
          "output_type": "stream",
          "name": "stdout",
          "text": [
            "94685675645536\n"
          ]
        }
      ]
    },
    {
      "cell_type": "markdown",
      "source": [
        "<pre>observation\n",
        "x and y print to same location\n",
        "</pre>"
      ],
      "metadata": {
        "id": "J93IoCatn1Gv"
      }
    },
    {
      "cell_type": "code",
      "source": [
        "y=2\n",
        "print(id(y))"
      ],
      "metadata": {
        "colab": {
          "base_uri": "https://localhost:8080/"
        },
        "id": "WpItbNVgn-WJ",
        "outputId": "d0a407cb-6a37-413c-e727-5cf301f222ca"
      },
      "execution_count": 53,
      "outputs": [
        {
          "output_type": "stream",
          "name": "stdout",
          "text": [
            "94685675645472\n"
          ]
        }
      ]
    },
    {
      "cell_type": "markdown",
      "source": [
        "#<h1>Datatypes</h1>\n",
        "<pre>Datatypes are actually classes \n",
        "variables are instance(objects) of these classes\n",
        "\n",
        "1.Numbers: integers,floating point and complex numbers--int,float,complex\n",
        "    functions used:\n",
        "    type(variable) :check type of data\n",
        "    isinstance(variable,type) : check class of object\n",
        "\n",
        "2.Boolean:represesnt truth values False and True\n",
        "\n",
        "3.string:sequence of unicode characters\n",
        "         single quotes or double quotes to represent strings\n",
        "         multiline strings represent by triple quotes, ''' or \"\"\"\n",
        "         first character of string has index 0 like c\n",
        "         last char=s[len(s)-1] or s[-1]\n",
        "\n",
        "4.list: ordered sequence of items of hetrogenous type.\n",
        "        items separated by commas are enclosed within brackets[]\n",
        "        list are mutable means value of elements of list can be altered\n",
        " \n",
        "5.tuple: ordered sequence of items of hetrogenous type same as list\n",
        "         tuples are immutable\n",
        "         items enclosed within parenthesis() separated by comma\n",
        "    \n",
        "6.set: unordered collection of unique items.\n",
        "        items enclosed within { } \n",
        "        we cam perform set operations like union,intersection\n",
        "        it is not index bcz of unordered collection of items\n",
        "\n",
        "7.dictionary: unordered collection of key-value pairs.\n",
        "            defined within braces{ } with each item being pair in form of\n",
        "            key:value(key and value can be any type)\n",
        "</pre>"
      ],
      "metadata": {
        "id": "jLx03Byppmec"
      }
    },
    {
      "cell_type": "code",
      "source": [
        "#number datatype\n",
        "a=5\n",
        "print(a, type(a))\n",
        "\n",
        "b=2.5\n",
        "print(b,type(b))\n",
        "\n",
        "c=1+2j\n",
        "print(c,type(c))\n",
        " \n",
        "print(isinstance(1+2j,complex))\n",
        "\n",
        "#boolean datatype\n",
        "d=True\n",
        "print(type(d))"
      ],
      "metadata": {
        "id": "Sk4jIDGdp3tR"
      },
      "execution_count": null,
      "outputs": []
    },
    {
      "cell_type": "code",
      "source": [
        "#string data type\n",
        "s=\"this is ml course\"\n",
        "t='''this is ml couse'''\n",
        "print(s)\n",
        "print(t)\n",
        "print(type(s))"
      ],
      "metadata": {
        "id": "3Uk3UIP3rd7p"
      },
      "execution_count": null,
      "outputs": []
    },
    {
      "cell_type": "code",
      "source": [
        "print(s[0])\n",
        "print(s[-1])\n",
        "print(s[len(s)-1])"
      ],
      "metadata": {
        "id": "q1XuMKjxuNXz"
      },
      "execution_count": null,
      "outputs": []
    },
    {
      "cell_type": "code",
      "source": [
        "#slicing\n",
        "s[5:]  #print from 5th value to upto end\n",
        "s[5:10] #print from 5th to 10th char"
      ],
      "metadata": {
        "id": "p5WWSUVE4Tv3"
      },
      "execution_count": null,
      "outputs": []
    },
    {
      "cell_type": "code",
      "source": [
        "a=[10,2.5,\"hello\"]  \n",
        "print(a[1])     #print 1st index\n",
        "a[1]=\"hi\"       #alter value\n",
        "print(a[1])"
      ],
      "metadata": {
        "id": "NZfFzYVx5nzJ"
      },
      "execution_count": null,
      "outputs": []
    },
    {
      "cell_type": "code",
      "source": [
        "tuple=(1, 1.1, \"ml\")\n",
        "print(tuple[2])\n",
        "#t[1]=3 immutable"
      ],
      "metadata": {
        "colab": {
          "base_uri": "https://localhost:8080/"
        },
        "id": "h5Apg8Xd7GY7",
        "outputId": "30cb99fa-d7a8-4e62-dec3-8f23972d90d6"
      },
      "execution_count": 82,
      "outputs": [
        {
          "output_type": "stream",
          "name": "stdout",
          "text": [
            "ml\n"
          ]
        }
      ]
    },
    {
      "cell_type": "code",
      "source": [
        "set_1={1,2,3,4,\"hi\"}\n",
        "print(set_1)\n",
        "\n",
        "set_2={1,2,2,2,2}\n",
        "print(set_2)\n",
        "\n",
        "#set2[1]   cant access indexwise"
      ],
      "metadata": {
        "colab": {
          "base_uri": "https://localhost:8080/"
        },
        "id": "r7_T7hlf9ARj",
        "outputId": "28ad14a3-a703-41bb-8bb9-da5e0bd48101"
      },
      "execution_count": 1,
      "outputs": [
        {
          "output_type": "stream",
          "name": "stdout",
          "text": [
            "{1, 2, 3, 'hi', 4}\n",
            "{1, 2}\n"
          ]
        }
      ]
    },
    {
      "cell_type": "code",
      "source": [
        "dict={'a':\"apple\", \"b\":\"bat\"}\n",
        "print(dict[\"a\"])"
      ],
      "metadata": {
        "id": "kyXD2ZQx-dfo"
      },
      "execution_count": null,
      "outputs": []
    },
    {
      "cell_type": "markdown",
      "source": [
        "#conversion between datatypes\n",
        "<pr>\n",
        "int(value)\n",
        "float(value)\n",
        "str(value)\n",
        "</pr>"
      ],
      "metadata": {
        "id": "N_tRiEZDA6lw"
      }
    },
    {
      "cell_type": "code",
      "source": [
        "float(5)   #convert to float\n",
        "int(100.5)   #convert to int\n",
        "str(20)     #convert to string\n",
        "set()\n",
        "list()"
      ],
      "metadata": {
        "colab": {
          "base_uri": "https://localhost:8080/",
          "height": 35
        },
        "id": "770a71vV_-9W",
        "outputId": "60305083-8a65-4234-d852-4dad9af55348"
      },
      "execution_count": 93,
      "outputs": [
        {
          "output_type": "execute_result",
          "data": {
            "application/vnd.google.colaboratory.intrinsic+json": {
              "type": "string"
            },
            "text/plain": [
              "'20'"
            ]
          },
          "metadata": {},
          "execution_count": 93
        }
      ]
    },
    {
      "cell_type": "markdown",
      "source": [
        "<pr>conversion to and from string must contain compatible value"
      ],
      "metadata": {
        "id": "rjffal4kBjWN"
      }
    },
    {
      "cell_type": "code",
      "source": [
        "int('10')"
      ],
      "metadata": {
        "colab": {
          "base_uri": "https://localhost:8080/"
        },
        "id": "osaKO594BQlH",
        "outputId": "411eb636-4297-465a-90dd-737ac54b73e1"
      },
      "execution_count": 94,
      "outputs": [
        {
          "output_type": "execute_result",
          "data": {
            "text/plain": [
              "10"
            ]
          },
          "metadata": {},
          "execution_count": 94
        }
      ]
    },
    {
      "cell_type": "code",
      "source": [
        "#int(\"10p\") not compatible"
      ],
      "metadata": {
        "id": "56D8KRVHB3WW"
      },
      "execution_count": 96,
      "outputs": []
    },
    {
      "cell_type": "code",
      "source": [
        "user=\"satish\"\n",
        "lines =100\n",
        "print(\"congrats,\" +user+ \"you wrotes\" +str(lines) + \"codes\")"
      ],
      "metadata": {
        "colab": {
          "base_uri": "https://localhost:8080/"
        },
        "id": "bIMj73eDCA84",
        "outputId": "b4a84a4b-0304-40df-a10a-93037b46fc99"
      },
      "execution_count": 99,
      "outputs": [
        {
          "output_type": "stream",
          "name": "stdout",
          "text": [
            "congrats,satishyou wrotes100codes\n"
          ]
        }
      ]
    },
    {
      "cell_type": "code",
      "source": [
        "#convert list to set\n",
        "a = [1,2,3]\n",
        "print(type(a))\n",
        "\n",
        "s = set(a)\n",
        "print(type(s))"
      ],
      "metadata": {
        "colab": {
          "base_uri": "https://localhost:8080/"
        },
        "id": "Sb14ye1tCl7C",
        "outputId": "e3d043e2-16cd-414a-8458-22b2d75b081c"
      },
      "execution_count": 2,
      "outputs": [
        {
          "output_type": "stream",
          "name": "stdout",
          "text": [
            "<class 'list'>\n",
            "<class 'set'>\n"
          ]
        }
      ]
    },
    {
      "cell_type": "code",
      "source": [
        "#convert string to list\n",
        "list(\"hello\")"
      ],
      "metadata": {
        "colab": {
          "base_uri": "https://localhost:8080/"
        },
        "id": "m-lY1bPxEzgV",
        "outputId": "5c49d7ff-f56e-48b6-b479-9bf7b066807b"
      },
      "execution_count": 4,
      "outputs": [
        {
          "output_type": "execute_result",
          "data": {
            "text/plain": [
              "['h', 'e', 'l', 'l', 'o']"
            ]
          },
          "metadata": {},
          "execution_count": 4
        }
      ]
    },
    {
      "cell_type": "markdown",
      "source": [
        "#python output\n",
        "print() used"
      ],
      "metadata": {
        "id": "kbQ-OPWJFCWW"
      }
    },
    {
      "cell_type": "code",
      "source": [
        "print('hello world')"
      ],
      "metadata": {
        "id": "roDBwvxbFMyy"
      },
      "execution_count": null,
      "outputs": []
    },
    {
      "cell_type": "code",
      "source": [
        "#multiple statments in single line\n",
        "\n",
        "a=10;b=20\n",
        "print(\"value of a is {} and b is {}\".format(a,b))  #default\n",
        "\n",
        "print(\"value of a is {1} and b is {0}\".format(a,b)) #specifying positions in {}\n",
        "\n",
        "print(\"{name},{greeting}\".format(name=\"satish\",greeting=\"good morning\")) #specify message in {}\n",
        "\n",
        "print('story of {0},{1}, and {other}'.format('satish','sudha',other=12))  #mixing above 2 formats of output"
      ],
      "metadata": {
        "id": "I0wlWt2vFPu6"
      },
      "execution_count": null,
      "outputs": []
    },
    {
      "cell_type": "markdown",
      "source": [
        "# Input\n",
        "take input from user we use function input()"
      ],
      "metadata": {
        "id": "_zxxQobFilp-"
      }
    },
    {
      "cell_type": "code",
      "source": [
        "num=input(\"enter number\")\n",
        "print(num)"
      ],
      "metadata": {
        "colab": {
          "base_uri": "https://localhost:8080/"
        },
        "id": "S4nMRQ8ui1OX",
        "outputId": "1cb500c4-8b71-4271-8685-f114684543e5"
      },
      "execution_count": 11,
      "outputs": [
        {
          "output_type": "stream",
          "name": "stdout",
          "text": [
            "enter number12\n",
            "12\n"
          ]
        }
      ]
    },
    {
      "cell_type": "markdown",
      "source": [
        "#operators\n",
        "<pre>\n",
        "1.airthemetic\n",
        "2.logical\n",
        "3.compariosn\n",
        "4.assigenment\n",
        "5.identify operator:\n",
        "    is : check two values locate on same location\n",
        "    is not\n",
        "6.membership operator:\n",
        "    in:check whether a value is found in sequence(string,list,    set   and dictionary)\n",
        "    in not\n",
        "</pre>"
      ],
      "metadata": {
        "id": "EMo0VwAYjbap"
      }
    },
    {
      "cell_type": "code",
      "source": [
        "#airthmetic operators\n",
        "x,y=10,2\n",
        "print(x+y)\n",
        "print(x-y)\n",
        "print(x*y)\n",
        "print(x/y)\n",
        "print(x%y)  #modulo division\n",
        "print(x//y) #floor division\n",
        "print(x**y) #exponent\n",
        "print(divmod(x,y))"
      ],
      "metadata": {
        "id": "r9v-V6HjjtM1"
      },
      "execution_count": null,
      "outputs": []
    },
    {
      "cell_type": "code",
      "source": [
        "#comparison operators\n",
        "a,b=10,20\n",
        "\n",
        "print(a<b)\n",
        "print(a>b)\n",
        "print(a==b)\n",
        "print(a!=b)\n",
        "print(a<=b)\n",
        "print(a>=b)"
      ],
      "metadata": {
        "id": "0Lpkgvtak_0b"
      },
      "execution_count": null,
      "outputs": []
    },
    {
      "cell_type": "code",
      "source": [
        "#logical operators\n",
        "a,b=True,False\n",
        "print(a and b)\n",
        "print(a or b)\n",
        "print(not b)\n"
      ],
      "metadata": {
        "id": "uL7FaOdexptV"
      },
      "execution_count": null,
      "outputs": []
    },
    {
      "cell_type": "code",
      "source": [
        "#bitwise operator\n",
        "a,b=10,4\n",
        "print(a & b)\n",
        "print(a | b)\n",
        "\n",
        "print(- b)\n",
        "print(a ^ b)\n",
        "\n",
        "print(a << b)\n",
        "print(a >> b)"
      ],
      "metadata": {
        "id": "bfEH_3Q_yC33"
      },
      "execution_count": null,
      "outputs": []
    },
    {
      "cell_type": "code",
      "source": [
        "#Assigenment operators: +=,=,-=,*=,/=,%=,//=,**=,&=,|=,^=,>>=,<<=\n",
        "a=10\n",
        "a+=10\n",
        "print(a)"
      ],
      "metadata": {
        "id": "1bUSUBsDyqwa"
      },
      "execution_count": null,
      "outputs": []
    },
    {
      "cell_type": "code",
      "source": [
        "#identify operator:\n",
        "a=5\n",
        "b=5\n",
        "print(a is b)\n",
        "\n",
        "list1=[1,2,3]\n",
        "list2=[1,2,3]\n",
        "print(list1 is list2)\n",
        "\n",
        "st=\"aaic\"\n",
        "st2=\"aaic\"\n",
        "print(st is st2)"
      ],
      "metadata": {
        "id": "zOAsol-vy-mI"
      },
      "execution_count": null,
      "outputs": []
    },
    {
      "cell_type": "code",
      "source": [
        "#membership operator\n",
        "lst=[1,2,3,4]\n",
        "print(2 in lst)\n",
        "\n",
        "d={1:\"a\", 2:\"b\"}\n",
        "print(2 in lst)\n"
      ],
      "metadata": {
        "colab": {
          "base_uri": "https://localhost:8080/"
        },
        "id": "FPc8ZddO0Y_z",
        "outputId": "c8199813-790b-4251-fd80-d1a7ecf00a3d"
      },
      "execution_count": 31,
      "outputs": [
        {
          "output_type": "stream",
          "name": "stdout",
          "text": [
            "True\n",
            "True\n"
          ]
        }
      ]
    },
    {
      "cell_type": "markdown",
      "source": [
        "#if...elif...else\n",
        "<pre>\n",
        "python interprets non-zero values as True \n",
        "None ,0,false as False</pre> "
      ],
      "metadata": {
        "id": "swKKoHrCQBi_"
      }
    },
    {
      "cell_type": "code",
      "source": [
        "#if statement\n",
        "num=10\n",
        "if None:\n",
        "    print(\"\"\"number is positive\"\"\")\n",
        "print(\"\"\"print always\"\"\")    "
      ],
      "metadata": {
        "id": "RNjI0eWAQdC8"
      },
      "execution_count": null,
      "outputs": []
    },
    {
      "cell_type": "code",
      "source": [
        "#if else statement\n",
        "num = 10\n",
        "if num > 0:\n",
        "    print(\"positive number\")\n",
        "else:\n",
        "    print(\"negative number \")"
      ],
      "metadata": {
        "id": "4LsvvkJUQ1Ar"
      },
      "execution_count": null,
      "outputs": []
    },
    {
      "cell_type": "code",
      "source": [
        "#if..elif..else statement\n",
        "num = 0\n",
        "\n",
        "if num > 0:\n",
        "    print(\"positive no.\")\n",
        "elif num == 0:\n",
        "    print(\"zero\")\n",
        "else:\n",
        "    print(\"negatuve no.\")"
      ],
      "metadata": {
        "id": "_vVygrjVRba-"
      },
      "execution_count": null,
      "outputs": []
    },
    {
      "cell_type": "code",
      "source": [
        "#nested if else\n",
        "num = 10.5\n",
        "\n",
        "if num >= 0:\n",
        "    if num==0:\n",
        "        print(\"zero\")\n",
        "    else:\n",
        "        print(\"positive number\")\n",
        "else:\n",
        "    print(\"negative number\")"
      ],
      "metadata": {
        "id": "tE03XFL-SbHV"
      },
      "execution_count": null,
      "outputs": []
    },
    {
      "cell_type": "code",
      "source": [
        "#program to find largest number among three numbers\n",
        "num1 = 10\n",
        "num2 = 20\n",
        "num3 = 30\n",
        "\n",
        "if(num1>=num2) and (num1>=num3):\n",
        "    largest=num1\n",
        "elif(num2>=num1) and (num2>=num3):\n",
        "    largest=num2\n",
        "else:\n",
        "    largest=num3\n",
        "print(\"largest element among three numbers is:{}\".format(largest))"
      ],
      "metadata": {
        "colab": {
          "base_uri": "https://localhost:8080/"
        },
        "id": "5feAVw52TSLF",
        "outputId": "1bcc9b00-07b6-45c3-80cf-30e65b97aec0"
      },
      "execution_count": 38,
      "outputs": [
        {
          "output_type": "stream",
          "name": "stdout",
          "text": [
            "largest element among three numbers is:30\n"
          ]
        }
      ]
    },
    {
      "cell_type": "markdown",
      "source": [
        "#while loop\n",
        "<pre>\n",
        "while test_expression:\n",
        "       body of while"
      ],
      "metadata": {
        "id": "o-sNaTp0Vka3"
      }
    },
    {
      "cell_type": "code",
      "source": [
        "#Find product of all numbers present in a list\n",
        "\n",
        "list1=[10,20,30,40,50]\n",
        "product =1\n",
        "index=0\n",
        "\n",
        "while index< len(list1):\n",
        "      product*=list1[index]\n",
        "      index+=1\n",
        "\n",
        "else:\n",
        "    print(\"product is:{}\".format(product))\n",
        "    "
      ],
      "metadata": {
        "colab": {
          "base_uri": "https://localhost:8080/"
        },
        "id": "XOFjHb9WV2v5",
        "outputId": "41b05bc6-d7d4-4d34-c480-eac0e9b4c75b"
      },
      "execution_count": 45,
      "outputs": [
        {
          "output_type": "stream",
          "name": "stdout",
          "text": [
            "product is:12000000\n"
          ]
        }
      ]
    },
    {
      "cell_type": "code",
      "source": [
        ""
      ],
      "metadata": {
        "id": "QvSiFNMgWku5"
      },
      "execution_count": null,
      "outputs": []
    },
    {
      "cell_type": "markdown",
      "source": [
        "#check number prime or not"
      ],
      "metadata": {
        "id": "dZKIRhS-XiDO"
      }
    },
    {
      "cell_type": "code",
      "source": [
        "num= int(input(\"enter a number:\"))\n",
        "\n",
        "isdivisible = False;\n",
        "i=2;\n",
        "while i<num:\n",
        "    if num%i==0:\n",
        "        isdivisible=True;\n",
        "        print(\"{} is divisible by {}\".format(num,i))\n",
        "    i+=1;\n",
        "\n",
        "if isdivisible:\n",
        "    print(\"{} is not prime number\".format(num))\n",
        "else:\n",
        "    print(\"{} is prime number\".format(num))"
      ],
      "metadata": {
        "colab": {
          "base_uri": "https://localhost:8080/"
        },
        "id": "gppyXtiLXzIJ",
        "outputId": "b23e29f4-a714-4705-9e83-048cc4c73efa"
      },
      "execution_count": 47,
      "outputs": [
        {
          "output_type": "stream",
          "name": "stdout",
          "text": [
            "enter a number:22\n",
            "22 is divisible by 2\n",
            "22 is divisible by 11\n",
            "22 is not prime number\n"
          ]
        }
      ]
    },
    {
      "cell_type": "markdown",
      "source": [
        "#for loop\n",
        "\n",
        "<pre>for elememt in sequence:\n",
        "    body of for_loop\n",
        "element is the variable that takes value of item inside sequence on each iteration\n",
        "\n",
        "</pre>\n"
      ],
      "metadata": {
        "id": "zmbWZRjCZWpx"
      }
    },
    {
      "cell_type": "code",
      "source": [
        "#find product of allnumbers in list\n",
        "list2=[10,20,30,40,50]\n",
        "\n",
        "product=1\n",
        "\n",
        "for element in list2:\n",
        "     print(type(element))\n",
        "     product*=element\n",
        "print(\"product is:{}\".format(product))"
      ],
      "metadata": {
        "colab": {
          "base_uri": "https://localhost:8080/"
        },
        "id": "Kf4ZiAyTZbbD",
        "outputId": "13b00d32-5b83-40ca-e541-0293f66772d2"
      },
      "execution_count": 50,
      "outputs": [
        {
          "output_type": "stream",
          "name": "stdout",
          "text": [
            "<class 'int'>\n",
            "<class 'int'>\n",
            "<class 'int'>\n",
            "<class 'int'>\n",
            "<class 'int'>\n",
            "product is:12000000\n"
          ]
        }
      ]
    },
    {
      "cell_type": "code",
      "source": [
        "# New sample code here"
      ],
      "metadata": {
        "id": "11OwK1ntagMv"
      },
      "execution_count": null,
      "outputs": []
    }
  ]
}